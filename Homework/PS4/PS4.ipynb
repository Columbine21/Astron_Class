{
 "cells": [
  {
   "cell_type": "markdown",
   "metadata": {},
   "source": [
    "## Modelling and Diferential Equation Solving\n",
    "\n",
    "\n",
    "Homework Guidelines:\n",
    "\n",
    "1) Document your code! Only part of your score on the homework will be if you get the \"right\" answer. In order for us to understand what you've written, you need to have clearly written code. Documenting your code with comments (# sign) and spacing out your code (but not too much) makes it easier to read. You should also make use of the markdown feature of ipython notebooks for longer explanations or to imbed pictures/formulas.\n",
    "\n",
    "2) You may google around for tools for solving the homework problems (StackExchange will often pop up!) but DO NOT google the exact problem statement or copy blocks of code from elsewhere.\n",
    "\n",
    "3) You can work in small groups to complete assignments and share code within the small group. Please specify who you worked with if your submitted solutions are similar/identical.\n",
    "\n",
    "4) Various python packages have built in routines for common programming tasks. If you want to use an external (i.e. import X) package which isn't imported in the problem statement please ask the instructor first.\n",
    "\n",
    "5) Some problem statements might be vague or unspecific (like \"Explore the relationship between X and Y\"), just like real research questions! When in doubt it would be useful to provide plots and your observations. Show what you did graphically whenever possible.\n",
    "\n",
    "6) Run all cells before you commit!\n",
    "\n",
    "\n",
    "<em>Hit \"Shift-Enter\" on a code cell to evaluate it.  Double click a Markdown cell to edit. </em><br>"
   ]
  },
  {
   "cell_type": "markdown",
   "metadata": {},
   "source": [
    "## Problem 1 - Monte Carlo Integration (10 Points)\n",
    "\n",
    "Our first example of Monte Carlo technique in class was used to integrate a circle, in this exercise we will Monte Carlo a few more complex shapes...\n",
    "\n",
    "a) Find the volume of the intersection of a sphere and a cylinder. The sphere has radius 1 and is centered at\n",
    "the origin. The cylinder has radius 0.5, and its axis is perpendicular\n",
    "to the x axis and goes through the point ( 0.5, 0, 0).  (The red region of the below shape.)"
   ]
  },
  {
   "cell_type": "markdown",
   "metadata": {},
   "source": [
    "<html>\n",
    "<img src=\"./problem1.png\",width=300,height=300>\n",
    "</html>"
   ]
  },
  {
   "cell_type": "markdown",
   "metadata": {},
   "source": [
    "b) The volume of a unit circle is $\\pi$ and the volume of a unit sphere is $\\frac{4}{3}\\pi$. What is the volume of a unit 6 dimensional sphere?"
   ]
  },
  {
   "cell_type": "markdown",
   "metadata": {},
   "source": [
    "## Problem 2 - Nonlinear Pendulum (10 points)\n",
    "\n",
    "The equation of motion for a point mass at the end of a massless and frictionless arm attached to a frictionless pivot can be written as\n",
    "\n",
    "$$\\frac{d^2\\theta}{dt^2} = - \\frac{g}{l} \\sin(\\theta)$$\n",
    "\n",
    "Note that in your introductory physics class you mighth have solved this in the small $\\theta$ limit where $\\sin(\\theta) \\approx \\theta$. In this case we will do the full wide angle solution.\n"
   ]
  },
  {
   "cell_type": "markdown",
   "metadata": {},
   "source": [
    "a) Code up the solution to the nonlinear pendulum using odeint. Note you will have to use the trick mentioned in class of breaking up the second order equation into two first order equations. \n",
    "\n",
    "You can take the initial position as $\\pi/3$, initial velocity as 0.01 meters/second, g as 9.8 meters/second^2, and the arm length as 1 meter."
   ]
  },
  {
   "cell_type": "markdown",
   "metadata": {},
   "source": [
    "b) Plot the solution between t = 0 and t = 10 seconds."
   ]
  },
  {
   "cell_type": "markdown",
   "metadata": {},
   "source": [
    "## Problem 3 - Trajectory with Air Resistance (15 points)\n",
    "\n",
    "(From Nick Kern)\n",
    "\n",
    "Consider a spherical cannonball shot from a cannon standing level with the ground. The trajectory without air resistance can be solved by-hand and resembles a parabola, using the equations of motion:\n",
    "\n",
    "\\begin{align}\n",
    "\\frac{dx}{dt} &= v_{x,0}\\\\\n",
    "\\\\\n",
    "\\frac{d^{2}y}{dt^{2}} &= -g\\\\\n",
    "\\\\\n",
    "\\frac{dy}{dt} &= \\frac{d^2y}{dt^2}t + v_{y,0}\n",
    "\\end{align}\n",
    "\n",
    "If we include air resistance, this changes. The force of air resistance can be written as\n",
    "\n",
    "\\begin{align}\n",
    "F = \\tfrac{1}{2}\\pi R^2\\rho C v^2\n",
    "\\end{align}\n",
    "\n",
    "where $R$ is the sphere's radius, $\\rho$ is the density of air, $v$ is the ball's velocity and $C$ is the coefficient of drag. Incorporating these into Newton's laws gives us equations of motion given as\n",
    "\n",
    "\\begin{align}\n",
    "\\ddot{x} &= -\\frac{\\pi R^2\\rho C}{2m}\\dot{x}\\sqrt{\\dot{x}^2+\\dot{y}^2}\\\\\n",
    "\\\\\n",
    "\\ddot{y} &= -g - \\frac{\\pi R^2\\rho C}{2m}\\dot{y}\\sqrt{\\dot{x}^2 + \\dot{y}^2}\n",
    "\\end{align}\n",
    "\n",
    "where $m$ is the mass of the ball, $g$ is the gravitational acceleration and $\\dot{x}$ and $\\ddot{x}$ are the first and second derivatives with respect to time."
   ]
  },
  {
   "cell_type": "markdown",
   "metadata": {},
   "source": [
    "\n",
    "a) Use odeint to solve the trajectory of $x(t)$ and $y(t)$ assuming $m = 1$ kg, $R = 0.08$ meters, the initial velocity is 100 meters sec$^{-1}$, the firing angle is $30^\\circ$, the density of air is $\\rho=1.22$kg m$^{-3}$, and the drag of a sphere has $C = 0.47$. \n"
   ]
  },
  {
   "cell_type": "markdown",
   "metadata": {},
   "source": [
    "b) Plot the trajectory of $y(x)$. Does it look parabolic? Re-do the calculation with $C = 0.001$ and overplot that trajectory of $y(x)$ overtop. Does a sphere with air resistance travel farther or shorter than a sphere with no air resistance?\n"
   ]
  },
  {
   "cell_type": "markdown",
   "metadata": {},
   "source": [
    "c) Use an optimization method to figure out the best launch angle in order to travel the farthest distance, holding all other parameters fixed. You can choose your favorite method (first order, second order, anything in scipy.optimize, etc.)\n"
   ]
  },
  {
   "cell_type": "markdown",
   "metadata": {},
   "source": [
    "## Problem 4 - California Housing (15 Points)\n",
    "\n",
    "Lets continue our exploration of the California Housing Data we used in class... Remember we need to do the following to load the dataset."
   ]
  },
  {
   "cell_type": "code",
   "execution_count": 2,
   "metadata": {},
   "outputs": [],
   "source": [
    "from sklearn import datasets\n",
    "data = datasets.california_housing.fetch_california_housing()"
   ]
  },
  {
   "cell_type": "code",
   "execution_count": 5,
   "metadata": {},
   "outputs": [
    {
     "name": "stdout",
     "output_type": "stream",
     "text": [
      ".. _california_housing_dataset:\n",
      "\n",
      "California Housing dataset\n",
      "--------------------------\n",
      "\n",
      "**Data Set Characteristics:**\n",
      "\n",
      "    :Number of Instances: 20640\n",
      "\n",
      "    :Number of Attributes: 8 numeric, predictive attributes and the target\n",
      "\n",
      "    :Attribute Information:\n",
      "        - MedInc        median income in block\n",
      "        - HouseAge      median house age in block\n",
      "        - AveRooms      average number of rooms\n",
      "        - AveBedrms     average number of bedrooms\n",
      "        - Population    block population\n",
      "        - AveOccup      average house occupancy\n",
      "        - Latitude      house block latitude\n",
      "        - Longitude     house block longitude\n",
      "\n",
      "    :Missing Attribute Values: None\n",
      "\n",
      "This dataset was obtained from the StatLib repository.\n",
      "http://lib.stat.cmu.edu/datasets/\n",
      "\n",
      "The target variable is the median house value for California districts.\n",
      "\n",
      "This dataset was derived from the 1990 U.S. census, using one row per census\n",
      "block group. A block group is the smallest geographical unit for which the U.S.\n",
      "Census Bureau publishes sample data (a block group typically has a population\n",
      "of 600 to 3,000 people).\n",
      "\n",
      "It can be downloaded/loaded using the\n",
      ":func:`sklearn.datasets.fetch_california_housing` function.\n",
      "\n",
      ".. topic:: References\n",
      "\n",
      "    - Pace, R. Kelley and Ronald Barry, Sparse Spatial Autoregressions,\n",
      "      Statistics and Probability Letters, 33 (1997) 291-297\n",
      "\n"
     ]
    }
   ],
   "source": [
    "print(data[\"DESCR\"])"
   ]
  },
  {
   "cell_type": "markdown",
   "metadata": {},
   "source": [
    "a) Plot the home price vs each variale and perform a simple linear regression against each one. Which variable seems most important in determining home prices? Why?\n",
    "\n",
    "(Note, it might be easier to use numpy or scipy instead of sklearn for this one."
   ]
  },
  {
   "cell_type": "markdown",
   "metadata": {},
   "source": [
    "b) Split the data randomly into a test set and a train set. The training set should consist of 75% of all data, while the test set has the remaining 25%"
   ]
  },
  {
   "cell_type": "markdown",
   "metadata": {},
   "source": [
    "c) Train a clustering algorithm as we did in class. Vary between 'uniform' and 'distance' for weights, and vary the number of nearest neighbors between 1 and 100. \n",
    "\n",
    "c1) For each type of weights make a plot of the Mean Squared Error as you vary the number of nearest neighbors used. Comment on the trends you see.\n",
    "\n",
    "c2) For each type of weights make a plot of the time it takes the algorithm to train (i.e. the time the \"fit\" command takes) as you vary the number of nearest neighbors used."
   ]
  },
  {
   "cell_type": "code",
   "execution_count": null,
   "metadata": {},
   "outputs": [],
   "source": []
  }
 ],
 "metadata": {
  "kernelspec": {
   "display_name": "Python 3",
   "language": "python",
   "name": "python3"
  },
  "language_info": {
   "codemirror_mode": {
    "name": "ipython",
    "version": 3
   },
   "file_extension": ".py",
   "mimetype": "text/x-python",
   "name": "python",
   "nbconvert_exporter": "python",
   "pygments_lexer": "ipython3",
   "version": "3.7.4"
  }
 },
 "nbformat": 4,
 "nbformat_minor": 2
}
