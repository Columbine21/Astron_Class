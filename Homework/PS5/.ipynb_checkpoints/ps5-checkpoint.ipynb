{
 "cells": [
  {
   "cell_type": "markdown",
   "metadata": {},
   "source": [
    "## Segmentation and Image Analysis\n",
    "\n",
    "This problem set mostly arranged like a \"mini\" project with various steps which build on each other. I highly recommend you start early in order to not get stuck on part 1(a)at the last minute!\n",
    "\n",
    "\n",
    "Homework Guidelines:\n",
    "\n",
    "1) Document your code! Only part of your score on the homework will be if you get the \"right\" answer. In order for us to understand what you've written, you need to have clearly written code. Documenting your code with comments (# sign) and spacing out your code (but not too much) makes it easier to read. You should also make use of the markdown feature of ipython notebooks for longer explanations or to imbed pictures/formulas.\n",
    "\n",
    "2) You may google around for tools for solving the homework problems (StackExchange will often pop up!) but DO NOT google the exact problem statement or copy blocks of code from elsewhere.\n",
    "\n",
    "3) You can work in small groups to complete assignments and share code within the small group. Please specify who you worked with if your submitted solutions are similar/identical.\n",
    "\n",
    "4) Various python packages have built in routines for common programming tasks. If you want to use an external (i.e. import X) package which isn't imported in the problem statement please ask the instructor first.\n",
    "\n",
    "5) Some problem statements might be vague or unspecific (like \"Explore the relationship between X and Y\"), just like real research questions! When in doubt it would be useful to provide plots and your observations. Show what you did graphically whenever possible.\n",
    "\n",
    "6) Run all cells before you commit!\n",
    "\n",
    "\n",
    "<em>Hit \"Shift-Enter\" on a code cell to evaluate it.  Double click a Markdown cell to edit. </em><br>"
   ]
  },
  {
   "cell_type": "markdown",
   "metadata": {},
   "source": [
    "## 1) Dissecting the Image (15 points)\n",
    "\n",
    "In this folder is a file, \"hudf.png\", which has a large file of the Hubble \"Ultra Deep Field\". This small patch of the sky was choosen since it had few galactic stars in the way. To learn more about the field, read the [wikipedia article](https://en.wikipedia.org/wiki/Hubble_Ultra-Deep_Field).\n",
    "\n",
    "The goal of this assignment is to make a rudimentary \"source extractor\" (known as a SExtractor in the astronomy) which will identify each source uniquely and save its quantities for later analysis."
   ]
  },
  {
   "cell_type": "code",
   "execution_count": null,
   "metadata": {},
   "outputs": [],
   "source": [
    "%pylab inline\n",
    "\n",
    "import matplotlib.image as mpimg\n",
    "plt.figure(figsize=(10,10))\n",
    "\n",
    "img = mpimg.imread(\"./hudf.png\") \n",
    "imshow(img)"
   ]
  },
  {
   "cell_type": "markdown",
   "metadata": {},
   "source": [
    "a) Sadly there is still (at least) one star in the image (identifiable by the diffraction lines located horizontally and diagonally), located around $x \\approx 1800$ and $y \\approx 1400$. Manually identify it and remove it from the image via a suitably small mask (i.e. zero out the values at/around the star). Show a picture of the area before and after."
   ]
  },
  {
   "cell_type": "code",
   "execution_count": null,
   "metadata": {
    "scrolled": true
   },
   "outputs": [],
   "source": [
    "# we would just like to make some try to catch the target star.\n",
    "imshow(img[1330:1425, 1750:1840])\n",
    "# this show us the center of the star is at about (1375,1795), radios = 75\n",
    "centre_X, centre_Y, R = 1375, 1795, 75\n",
    "\n",
    "X_size, Y_size, channel = img.shape\n",
    "print(X_size, Y_size)"
   ]
  },
  {
   "cell_type": "code",
   "execution_count": null,
   "metadata": {},
   "outputs": [],
   "source": [
    "X, Y = np.ogrid[0:X_size:1, 0:Y_size:1]\n",
    "\n",
    "mask = (X - centre_X) ** 2 + (Y - centre_Y) ** 2 < R ** 2\n",
    "mask = mask.reshape(X_size, Y_size, -1)\n",
    "mask = np.concatenate((mask, mask, mask), axis=2)\n",
    "fig = plt.figure(figsize=(10, 10))\n",
    "imshow(mask * img)\n",
    "plt.axis(\"off\")"
   ]
  },
  {
   "cell_type": "markdown",
   "metadata": {},
   "source": [
    "b) Notice that there is a low level of noise across the image. Make a new, low-noise, version of the image through the following steps:\n",
    "\n",
    "1) Apply a Gaussian Filter with suitable smoothing scale.\n",
    "\n",
    "2) Make a mask of all pixels with values below a certian threshold value in all color bins (you might find np.logical_and helpful).\n",
    "\n",
    "3) Display again the original image multiplied by the mask."
   ]
  },
  {
   "cell_type": "code",
   "execution_count": null,
   "metadata": {},
   "outputs": [],
   "source": [
    "from scipy import ndimage\n",
    "\n",
    "smooth_image = ndimage.gaussian_filter(img, 2)\n",
    "print(smooth_image.shape)"
   ]
  },
  {
   "cell_type": "code",
   "execution_count": null,
   "metadata": {},
   "outputs": [],
   "source": [
    "threshold = 0.3\n",
    "mask_two = (smooth_image > threshold)\n",
    "\n",
    "mask_two = np.logical_and(mask_two[:,:,0],mask_two[:,:,1],mask_two[:,:,2]).reshape(X_size,Y_size,1)\n",
    "\n",
    "mask_two = np.concatenate((mask_two, mask_two, mask_two), axis = 2)\n",
    "\n",
    "image_masked = img * mask_two\n",
    "fig = plt.figure(figsize=(10, 10))\n",
    "imshow(image_masked)\n",
    "plt.axis(\"off\")"
   ]
  },
  {
   "cell_type": "markdown",
   "metadata": {},
   "source": [
    "c) Use the ndimage.label command to segment the image. Display the numpy array that this command generates."
   ]
  },
  {
   "cell_type": "code",
   "execution_count": null,
   "metadata": {
    "scrolled": true
   },
   "outputs": [],
   "source": [
    "image_masked = np.sum(image_masked, axis=2)\n",
    "image, count = ndimage.label(image_masked)\n",
    "\n",
    "fig = plt.figure(figsize=(10,10))\n",
    "imshow(image)\n",
    "plt.axis(\"off\")"
   ]
  },
  {
   "cell_type": "code",
   "execution_count": null,
   "metadata": {},
   "outputs": [],
   "source": [
    "def show_image_cut(nums = 100, lower_bound = 50):\n",
    "    output = []\n",
    "    for i in range(nums):\n",
    "        image_cut = image == i\n",
    "        \n",
    "        if(np.sum(image_cut) > lower_bound):\n",
    "            x, y =  np.array(ndimage.center_of_mass(image_cut)).astype(int)\n",
    "            imshow(image_cut[max(0,x-40):min(x+40,X_size), max(0,y-40):min(y+40,Y_size)])\n",
    "            plt.show()\n",
    "            imshow(img[max(0,x-40):min(x+40,X_size), max(0,y-40):min(y+40,Y_size)])\n",
    "            plt.show()"
   ]
  },
  {
   "cell_type": "code",
   "execution_count": null,
   "metadata": {},
   "outputs": [],
   "source": [
    "show_image_cut(nums = count, lower_bound=200)"
   ]
  },
  {
   "cell_type": "markdown",
   "metadata": {},
   "source": [
    "## 2) Blended Sources (20 points)\n",
    "\n",
    "You might have already noticed that, depending on your smoothing scale and your thresh-hold value, you have sources which are \"blended\", i.e. multiple galaxies which are close enough on the sky to be considered one source by your segmentation. In this section we will try to identify these blended sources.\n",
    "\n",
    "See here for an example from my run:\n",
    "\n",
    "![Classic Blended](./blended.png)"
   ]
  },
  {
   "cell_type": "markdown",
   "metadata": {},
   "source": [
    "a) Write a function which will take in a mask and an image which will output a smaller \"postage stamp\" of just the galaxy as in the above image with the identified source outlined. (You might find the ndimage.center_of_mass command very helpful)"
   ]
  },
  {
   "cell_type": "code",
   "execution_count": null,
   "metadata": {
    "collapsed": true
   },
   "outputs": [],
   "source": [
    "def image_mask(mask, image):\n",
    "    \n",
    "    image_temp = image * mask\n",
    "    x, y = ndimage.center_of_mass(image_temp)\n",
    "    \n",
    "    imshow(image_temp[max(0, x-100):min(X_size, x+100),max(0, y-100):min(Y_size, y+100)])"
   ]
  },
  {
   "cell_type": "markdown",
   "metadata": {},
   "source": [
    "b) Loop over the 40 largest (by number of pixels) sources found in (1c) and use your function from (2a) to display the sources. Visually identify a few of the most pronounced blended sources. \n",
    "\n",
    "If you find all your largest sources are blended, you might want to increase the threshhold or decrease the smoothing scale from Part 1. If you don't see any blended sources, do the opposite."
   ]
  },
  {
   "cell_type": "code",
   "execution_count": null,
   "metadata": {
    "collapsed": true
   },
   "outputs": [],
   "source": []
  },
  {
   "cell_type": "markdown",
   "metadata": {},
   "source": [
    "c) \"Color\" in astronomical terms is defined as the differences between the pixel values in each band (in this case R,G, and B). For one blended source (choose the nicest looking), calculate the colors of all pixels (i.e. [R-B, R-G, G-B]) and plot two colors of two colors vs. each other. This is known as plotting things in color-color space.\n",
    "\n",
    "You should find that there are two distinct blobs, possibly more! \n",
    "\n",
    "Note, you might want to normalize the bands (R,G,B) first using the following routine..."
   ]
  },
  {
   "cell_type": "code",
   "execution_count": null,
   "metadata": {
    "collapsed": true
   },
   "outputs": [],
   "source": [
    "#pixels is a [N,3] array of the pixel band information\n",
    "for i in range(0,3):\n",
    "    print(pixels[:,i].std(),pixels[:,i].mean())\n",
    "    pixels[:,i] += -1*pixels[:,i].mean() #subtracting the mean\n",
    "    pixels[:,i] *= 1/pixels[:,i].std() #normalizing the resulting band\n",
    "    print(pixels[:,i].std(),pixels[:,i].mean())\n"
   ]
  },
  {
   "cell_type": "markdown",
   "metadata": {},
   "source": [
    "d) Design a procedure to identify these blended sources. Possibilities include:\n",
    "\n",
    "1) Use some property of the color-color diagram to identify likely blended sources.\n",
    "\n",
    "2) Changing the threshold value and reapplying the segmentation algorithm to that particular patch and see if two distinct sub-segmenents emerge.\n",
    "\n",
    "3) Use some geometric property of the boundary to identify likely blended sources.\n",
    "\n",
    "4) Something new and exciting!\n",
    "\n",
    "(It doesn't have to be perfect, but something that gets them more often than not ;) )"
   ]
  },
  {
   "cell_type": "code",
   "execution_count": null,
   "metadata": {
    "collapsed": true
   },
   "outputs": [],
   "source": []
  },
  {
   "cell_type": "markdown",
   "metadata": {},
   "source": [
    "e) Apply this algorithm to the 40 sources found in part (2b). Does it seem to properly identify blended sources?"
   ]
  },
  {
   "cell_type": "code",
   "execution_count": null,
   "metadata": {
    "collapsed": true
   },
   "outputs": [],
   "source": []
  },
  {
   "cell_type": "markdown",
   "metadata": {},
   "source": [
    "f) Apply to all your sources. How many of them are blended according to your algorithm?"
   ]
  },
  {
   "cell_type": "code",
   "execution_count": null,
   "metadata": {
    "collapsed": true
   },
   "outputs": [],
   "source": []
  },
  {
   "cell_type": "markdown",
   "metadata": {},
   "source": [
    "# 3) Wine dataset (10 points)\n",
    "\n",
    "Lets try to classify wines based on a few of their characteristics..."
   ]
  },
  {
   "cell_type": "code",
   "execution_count": 1,
   "metadata": {
    "collapsed": true
   },
   "outputs": [],
   "source": [
    "from sklearn import datasets\n",
    "from sklearn.decomposition import PCA\n",
    "\n",
    "\n",
    "wine = datasets.load_wine()"
   ]
  },
  {
   "cell_type": "code",
   "execution_count": 9,
   "metadata": {},
   "outputs": [
    {
     "name": "stdout",
     "output_type": "stream",
     "text": [
      "Wine Data Database\n",
      "====================\n",
      "\n",
      "Notes\n",
      "-----\n",
      "Data Set Characteristics:\n",
      "    :Number of Instances: 178 (50 in each of three classes)\n",
      "    :Number of Attributes: 13 numeric, predictive attributes and the class\n",
      "    :Attribute Information:\n",
      " \t\t- 1) Alcohol\n",
      " \t\t- 2) Malic acid\n",
      " \t\t- 3) Ash\n",
      "\t\t- 4) Alcalinity of ash  \n",
      " \t\t- 5) Magnesium\n",
      "\t\t- 6) Total phenols\n",
      " \t\t- 7) Flavanoids\n",
      " \t\t- 8) Nonflavanoid phenols\n",
      " \t\t- 9) Proanthocyanins\n",
      "\t\t- 10)Color intensity\n",
      " \t\t- 11)Hue\n",
      " \t\t- 12)OD280/OD315 of diluted wines\n",
      " \t\t- 13)Proline\n",
      "        \t- class:\n",
      "                - class_0\n",
      "                - class_1\n",
      "                - class_2\n",
      "\t\t\n",
      "    :Summary Statistics:\n",
      "    \n",
      "    ============================= ==== ===== ======= =====\n",
      "                                   Min   Max   Mean     SD\n",
      "    ============================= ==== ===== ======= =====\n",
      "    Alcohol:                      11.0  14.8    13.0   0.8\n",
      "    Malic Acid:                   0.74  5.80    2.34  1.12\n",
      "    Ash:                          1.36  3.23    2.36  0.27\n",
      "    Alcalinity of Ash:            10.6  30.0    19.5   3.3\n",
      "    Magnesium:                    70.0 162.0    99.7  14.3\n",
      "    Total Phenols:                0.98  3.88    2.29  0.63\n",
      "    Flavanoids:                   0.34  5.08    2.03  1.00\n",
      "    Nonflavanoid Phenols:         0.13  0.66    0.36  0.12\n",
      "    Proanthocyanins:              0.41  3.58    1.59  0.57\n",
      "    Colour Intensity:              1.3  13.0     5.1   2.3\n",
      "    Hue:                          0.48  1.71    0.96  0.23\n",
      "    OD280/OD315 of diluted wines: 1.27  4.00    2.61  0.71\n",
      "    Proline:                       278  1680     746   315\n",
      "    ============================= ==== ===== ======= =====\n",
      "\n",
      "    :Missing Attribute Values: None\n",
      "    :Class Distribution: class_0 (59), class_1 (71), class_2 (48)\n",
      "    :Creator: R.A. Fisher\n",
      "    :Donor: Michael Marshall (MARSHALL%PLU@io.arc.nasa.gov)\n",
      "    :Date: July, 1988\n",
      "\n",
      "This is a copy of UCI ML Wine recognition datasets.\n",
      "https://archive.ics.uci.edu/ml/machine-learning-databases/wine/wine.data\n",
      "\n",
      "The data is the results of a chemical analysis of wines grown in the same\n",
      "region in Italy by three different cultivators. There are thirteen different\n",
      "measurements taken for different constituents found in the three types of\n",
      "wine.\n",
      "\n",
      "Original Owners: \n",
      "\n",
      "Forina, M. et al, PARVUS - \n",
      "An Extendible Package for Data Exploration, Classification and Correlation. \n",
      "Institute of Pharmaceutical and Food Analysis and Technologies,\n",
      "Via Brigata Salerno, 16147 Genoa, Italy.\n",
      "\n",
      "Citation:\n",
      "\n",
      "Lichman, M. (2013). UCI Machine Learning Repository\n",
      "[http://archive.ics.uci.edu/ml]. Irvine, CA: University of California,\n",
      "School of Information and Computer Science. \n",
      "\n",
      "References\n",
      "----------\n",
      "(1) \n",
      "S. Aeberhard, D. Coomans and O. de Vel, \n",
      "Comparison of Classifiers in High Dimensional Settings, \n",
      "Tech. Rep. no. 92-02, (1992), Dept. of Computer Science and Dept. of \n",
      "Mathematics and Statistics, James Cook University of North Queensland. \n",
      "(Also submitted to Technometrics). \n",
      "\n",
      "The data was used with many others for comparing various \n",
      "classifiers. The classes are separable, though only RDA \n",
      "has achieved 100% correct classification. \n",
      "(RDA : 100%, QDA 99.4%, LDA 98.9%, 1NN 96.1% (z-transformed data)) \n",
      "(All results using the leave-one-out technique) \n",
      "\n",
      "(2) \n",
      "S. Aeberhard, D. Coomans and O. de Vel, \n",
      "\"THE CLASSIFICATION PERFORMANCE OF RDA\" \n",
      "Tech. Rep. no. 92-01, (1992), Dept. of Computer Science and Dept. of \n",
      "Mathematics and Statistics, James Cook University of North Queensland. \n",
      "(Also submitted to Journal of Chemometrics). \n",
      "\n"
     ]
    }
   ],
   "source": [
    "print(wine.DESCR)"
   ]
  },
  {
   "cell_type": "code",
   "execution_count": 2,
   "metadata": {},
   "outputs": [],
   "source": [
    "X, Y = wine.data, wine.target"
   ]
  },
  {
   "cell_type": "markdown",
   "metadata": {},
   "source": [
    "1) Perform a PCA analysis with two components. Plot the result, coloring each point by it's class designation."
   ]
  },
  {
   "cell_type": "code",
   "execution_count": 15,
   "metadata": {},
   "outputs": [
    {
     "name": "stdout",
     "output_type": "stream",
     "text": [
      "Populating the interactive namespace from numpy and matplotlib\n"
     ]
    },
    {
     "data": {
      "text/plain": [
       "([], <a list of 0 Text yticklabel objects>)"
      ]
     },
     "execution_count": 15,
     "metadata": {},
     "output_type": "execute_result"
    },
    {
     "data": {
      "image/png": "[encoded data removed]",
      "text/plain": [
       "<Figure size 720x720 with 1 Axes>"
      ]
     },
     "metadata": {},
     "output_type": "display_data"
    }
   ],
   "source": [
    "%pylab inline\n",
    "pca = PCA(n_components = 2)\n",
    "\n",
    "trans_X = pca.fit_transform(X)\n",
    "\n",
    "fig = plt.figure(figsize = (10, 10))\n",
    "plt.scatter(trans_X[:, 0], trans_X[:, 1], c = Y, alpha = 0.5,\n",
    "           cmap = plt.cm.get_cmap(\"tab10\", 3))\n",
    "plt.xticks([]); plt.yticks([])"
   ]
  },
  {
   "cell_type": "markdown",
   "metadata": {},
   "source": [
    "2) Now, lets standardize the datapoints using the same procedure in question 2 part c, i.e.\n",
    "\n",
    "$x_{\\textrm i, new} = \\frac{x_i-x_{\\textrm mean}}{x_{\\textrm standard\\ deviation}}$,\n",
    "\n",
    "and perform again the PCA analysis. How does the seperation compare?"
   ]
  },
  {
   "cell_type": "code",
   "execution_count": 20,
   "metadata": {},
   "outputs": [
    {
     "data": {
      "image/png": "[encoded data removed]",
      "text/plain": [
       "<Figure size 936x432 with 2 Axes>"
      ]
     },
     "metadata": {},
     "output_type": "display_data"
    }
   ],
   "source": [
    "# initialize the data\n",
    "Standardize_data = np.zeros(X.shape)\n",
    "\n",
    "# standardizes the datapoints\n",
    "for i in range(len(X[0])):\n",
    "    #subtracting the mean\n",
    "    Standardize_data[:, i] = X[:, i] - np.mean(X[:,i])\n",
    "    #normalizing the resulting band\n",
    "    Standardize_data[:, i] /= np.std(X[:, i])\n",
    "\n",
    "# PCA training\n",
    "trans_X_std = pca.fit_transform(Standardize_data)\n",
    "\n",
    "# Visualize\n",
    "fig = plt.figure(figsize=(13, 6))\n",
    "\n",
    "ax1 = plt.subplot(121)\n",
    "ax1.scatter(trans_X[:, 0], trans_X[:, 1], c = Y, alpha = 0.5,\n",
    "           cmap = plt.cm.get_cmap(\"tab10\", 3))\n",
    "ax1.set(xticks=[], yticks=[], title=\"original\")\n",
    "\n",
    "ax2 = plt.subplot(122)\n",
    "plt.scatter(trans_X_std[:, 0], trans_X_std[:, 1], c = Y, \n",
    "            cmap=plt.cm.get_cmap(\"tab10\", 3), alpha = 0.5)\n",
    "ax2.set(xticks=[], yticks=[], title=\"original\")\n",
    "plt.show()"
   ]
  },
  {
   "cell_type": "markdown",
   "metadata": {},
   "source": [
    "3) Perform a kmeans analysis in the standardized and unstandardized PCA transformed space. How do the results compare?"
   ]
  },
  {
   "cell_type": "code",
   "execution_count": 42,
   "metadata": {},
   "outputs": [
    {
     "data": {
      "text/html": [
       "<table border=\"1\" class=\"dataframe\">\n",
       "    <thead>\n",
       "        <tr>\n",
       "            <th>random_seed</th> <th>accuracy_socre</th> <th>homogeneity_score</th> <th>completeness_score</th> <th>v_measure_score</th>\n",
       "        </tr>\n",
       "    </thead>\n",
       "    <tbody>\n",
       "        <tr>\n",
       "            <td>20         </td> <td>0.97191       </td> <td>0.885909         </td> <td>0.882924          </td> <td>0.882924       </td>\n",
       "        </tr>\n",
       "        <tr>\n",
       "            <td>21         </td> <td>0.97191       </td> <td>0.885909         </td> <td>0.882924          </td> <td>0.882924       </td>\n",
       "        </tr>\n",
       "        <tr>\n",
       "            <td>22         </td> <td>0.97191       </td> <td>0.885909         </td> <td>0.882924          </td> <td>0.882924       </td>\n",
       "        </tr>\n",
       "        <tr>\n",
       "            <td>23         </td> <td>0.97191       </td> <td>0.885909         </td> <td>0.882924          </td> <td>0.882924       </td>\n",
       "        </tr>\n",
       "        <tr>\n",
       "            <td>24         </td> <td>0.97191       </td> <td>0.885909         </td> <td>0.882924          </td> <td>0.882924       </td>\n",
       "        </tr>\n",
       "        <tr>\n",
       "            <td>25         </td> <td>0.97191       </td> <td>0.885909         </td> <td>0.882924          </td> <td>0.882924       </td>\n",
       "        </tr>\n",
       "        <tr>\n",
       "            <td>26         </td> <td>0.97191       </td> <td>0.885909         </td> <td>0.882924          </td> <td>0.882924       </td>\n",
       "        </tr>\n",
       "        <tr>\n",
       "            <td>27         </td> <td>0.97191       </td> <td>0.885909         </td> <td>0.882924          </td> <td>0.882924       </td>\n",
       "        </tr>\n",
       "        <tr>\n",
       "            <td>28         </td> <td>0.97191       </td> <td>0.885909         </td> <td>0.882924          </td> <td>0.882924       </td>\n",
       "        </tr>\n",
       "        <tr>\n",
       "            <td>29         </td> <td>0.97191       </td> <td>0.885909         </td> <td>0.882924          </td> <td>0.882924       </td>\n",
       "        </tr>\n",
       "    </tbody>\n",
       "</table>\n",
       "<p>... (50 rows omitted)</p>"
      ],
      "text/plain": [
       "random_seed | accuracy_socre | homogeneity_score | completeness_score | v_measure_score\n",
       "20          | 0.97191        | 0.885909          | 0.882924           | 0.882924\n",
       "21          | 0.97191        | 0.885909          | 0.882924           | 0.882924\n",
       "22          | 0.97191        | 0.885909          | 0.882924           | 0.882924\n",
       "23          | 0.97191        | 0.885909          | 0.882924           | 0.882924\n",
       "24          | 0.97191        | 0.885909          | 0.882924           | 0.882924\n",
       "25          | 0.97191        | 0.885909          | 0.882924           | 0.882924\n",
       "26          | 0.97191        | 0.885909          | 0.882924           | 0.882924\n",
       "27          | 0.97191        | 0.885909          | 0.882924           | 0.882924\n",
       "28          | 0.97191        | 0.885909          | 0.882924           | 0.882924\n",
       "29          | 0.97191        | 0.885909          | 0.882924           | 0.882924\n",
       "... (50 rows omitted)"
      ]
     },
     "execution_count": 42,
     "metadata": {},
     "output_type": "execute_result"
    }
   ],
   "source": [
    "from sklearn.cluster import KMeans\n",
    "from sklearn import metrics\n",
    "from datascience import Table\n",
    "\n",
    "def get_accuracy():\n",
    "    accuracy_org = accuracy_std = np.array([])\n",
    "    homogeneity_score_org = homogeneity_score_std = np.array([])\n",
    "    completeness_score_org = completeness_score_std  = np.array([])\n",
    "    v_measure_score_org = v_measure_score_std= np.array([])\n",
    "    for i in np.arange(20, 80, 1):\n",
    "        # predict the result\n",
    "        y_predict_origin = KMeans(n_clusters=3, random_state = 32).fit(trans_X)\n",
    "        y_predict_standardize = KMeans(n_clusters=3, random_state = 32).fit(trans_X_std)\n",
    "        accuracy_org = np.append(accuracy_org, \n",
    "                                 metrics.accuracy_score(Y, y_predict_origin.labels_))\n",
    "        homogeneity_score_org = np.append(homogeneity_score_org, \n",
    "                                          metrics.homogeneity_score(Y, y_predict_origin.labels_))\n",
    "        \n",
    "        completeness_score_org = np.append(completeness_score_org, \n",
    "                                           metrics.completeness_score(Y, y_predict_origin.labels_))   \n",
    "        v_measure_score_org = np.append(v_measure_score_org,\n",
    "                                        metrics.completeness_score(Y, y_predict_origin.labels_))\n",
    "\n",
    "        accuracy_std = np.append(accuracy_std, \n",
    "                                 metrics.accuracy_score(Y, y_predict_standardize.labels_))\n",
    "        homogeneity_score_std = np.append(homogeneity_score_std, \n",
    "                                          metrics.homogeneity_score(Y, y_predict_standardize.labels_))\n",
    "        \n",
    "        completeness_score_std = np.append(completeness_score_std, \n",
    "                                           metrics.completeness_score(Y, y_predict_standardize.labels_))   \n",
    "        v_measure_score_std = np.append(v_measure_score_std,\n",
    "                                        metrics.completeness_score(Y, y_predict_standardize.labels_))\n",
    "    table_org = Table().with_columns(['random_seed', np.arange(20, 80, 1),\n",
    "                                  'accuracy_socre', accuracy_org,\n",
    "                                  'homogeneity_score', homogeneity_score_org,\n",
    "                                  'completeness_score', completeness_score_org,\n",
    "                                  'v_measure_score', v_measure_score_org])\n",
    "    table_std = Table().with_columns(['random_seed', np.arange(20, 80, 1),\n",
    "                                  'accuracy_socre', accuracy_std,\n",
    "                                  'homogeneity_score', homogeneity_score_std,\n",
    "                                  'completeness_score', completeness_score_std,\n",
    "                                  'v_measure_score', v_measure_score_std])\n",
    "    return table_org, table_std\n",
    "# get_accuracy()\n",
    "Table_org, Table_std = get_accuracy()\n",
    "\n",
    "Table_std"
   ]
  },
  {
   "cell_type": "code",
   "execution_count": 43,
   "metadata": {},
   "outputs": [
    {
     "data": {
      "text/html": [
       "<table border=\"1\" class=\"dataframe\">\n",
       "    <thead>\n",
       "        <tr>\n",
       "            <th>random_seed</th> <th>accuracy_socre</th> <th>homogeneity_score</th> <th>completeness_score</th> <th>v_measure_score</th>\n",
       "        </tr>\n",
       "    </thead>\n",
       "    <tbody>\n",
       "        <tr>\n",
       "            <td>20         </td> <td>0.185393      </td> <td>0.428812         </td> <td>0.428701          </td> <td>0.428701       </td>\n",
       "        </tr>\n",
       "        <tr>\n",
       "            <td>21         </td> <td>0.185393      </td> <td>0.428812         </td> <td>0.428701          </td> <td>0.428701       </td>\n",
       "        </tr>\n",
       "        <tr>\n",
       "            <td>22         </td> <td>0.185393      </td> <td>0.428812         </td> <td>0.428701          </td> <td>0.428701       </td>\n",
       "        </tr>\n",
       "        <tr>\n",
       "            <td>23         </td> <td>0.185393      </td> <td>0.428812         </td> <td>0.428701          </td> <td>0.428701       </td>\n",
       "        </tr>\n",
       "        <tr>\n",
       "            <td>24         </td> <td>0.185393      </td> <td>0.428812         </td> <td>0.428701          </td> <td>0.428701       </td>\n",
       "        </tr>\n",
       "        <tr>\n",
       "            <td>25         </td> <td>0.185393      </td> <td>0.428812         </td> <td>0.428701          </td> <td>0.428701       </td>\n",
       "        </tr>\n",
       "        <tr>\n",
       "            <td>26         </td> <td>0.185393      </td> <td>0.428812         </td> <td>0.428701          </td> <td>0.428701       </td>\n",
       "        </tr>\n",
       "        <tr>\n",
       "            <td>27         </td> <td>0.185393      </td> <td>0.428812         </td> <td>0.428701          </td> <td>0.428701       </td>\n",
       "        </tr>\n",
       "        <tr>\n",
       "            <td>28         </td> <td>0.185393      </td> <td>0.428812         </td> <td>0.428701          </td> <td>0.428701       </td>\n",
       "        </tr>\n",
       "        <tr>\n",
       "            <td>29         </td> <td>0.185393      </td> <td>0.428812         </td> <td>0.428701          </td> <td>0.428701       </td>\n",
       "        </tr>\n",
       "    </tbody>\n",
       "</table>\n",
       "<p>... (50 rows omitted)</p>"
      ],
      "text/plain": [
       "random_seed | accuracy_socre | homogeneity_score | completeness_score | v_measure_score\n",
       "20          | 0.185393       | 0.428812          | 0.428701           | 0.428701\n",
       "21          | 0.185393       | 0.428812          | 0.428701           | 0.428701\n",
       "22          | 0.185393       | 0.428812          | 0.428701           | 0.428701\n",
       "23          | 0.185393       | 0.428812          | 0.428701           | 0.428701\n",
       "24          | 0.185393       | 0.428812          | 0.428701           | 0.428701\n",
       "25          | 0.185393       | 0.428812          | 0.428701           | 0.428701\n",
       "26          | 0.185393       | 0.428812          | 0.428701           | 0.428701\n",
       "27          | 0.185393       | 0.428812          | 0.428701           | 0.428701\n",
       "28          | 0.185393       | 0.428812          | 0.428701           | 0.428701\n",
       "29          | 0.185393       | 0.428812          | 0.428701           | 0.428701\n",
       "... (50 rows omitted)"
      ]
     },
     "execution_count": 43,
     "metadata": {},
     "output_type": "execute_result"
    }
   ],
   "source": [
    "Table_org"
   ]
  },
  {
   "cell_type": "markdown",
   "metadata": {},
   "source": [
    "## 4) Final Project Progress Summary (5 Points)\n",
    "\n",
    "Please briefly describe your progress so far this week on your final project! Remember it is due on Friday, 8/16/2019."
   ]
  },
  {
   "cell_type": "code",
   "execution_count": null,
   "metadata": {
    "collapsed": true
   },
   "outputs": [],
   "source": []
  }
 ],
 "metadata": {
  "kernelspec": {
   "display_name": "Python 3",
   "language": "python",
   "name": "python3"
  },
  "language_info": {
   "codemirror_mode": {
    "name": "ipython",
    "version": 3
   },
   "file_extension": ".py",
   "mimetype": "text/x-python",
   "name": "python",
   "nbconvert_exporter": "python",
   "pygments_lexer": "ipython3",
   "version": "3.6.3"
  }
 },
 "nbformat": 4,
 "nbformat_minor": 2
}
