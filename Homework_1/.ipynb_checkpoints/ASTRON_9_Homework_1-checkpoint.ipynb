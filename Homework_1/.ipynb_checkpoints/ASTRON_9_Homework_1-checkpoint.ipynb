{
 "cells": [
  {
   "cell_type": "markdown",
   "metadata": {},
   "source": [
    "# Homework Assignment 1: Basic Python\n",
    "\n",
    "In this homework, we will review basic properties of python, specifically loops, conditionals, functions, and basic data structures.\n",
    "\n",
    "Homework Guidelines:\n",
    "\n",
    "1) Document your code! Only part of your score on the homework will be if you get the \"right\" answer. In order for us to understand what you've written, you need to have clearly written code. Documenting your code with comments (# sign) and spacing out your code (but not too much) makes it easier to read. You should also make use of the markdown feature of ipython notebooks for longer explanations or to imbed pictures/formulas. \n",
    "\n",
    "2) You may google around for tools for solving the homework problems (StackExchange will often pop up!) but DO NOT google the exact problem statement or copy blocks of code from elsewhere.\n",
    "\n",
    "3) You can work in small groups to complete assignments and share code within the small group. Please specify who you worked with if your submitted solutions are similar/identical.\n",
    "\n",
    "4) Various python packages have built in routines for common programming tasks. If you want to use an external (i.e. import X) package which isn't imported in the problem statement please ask the instructor first.\n",
    "\n",
    "5) Some problem statements might be vague or unspecific (like \"Explore the relationship between X and Y\"), just like real research questions! When in doubt it would be useful to provide plots and your observations."
   ]
  },
  {
   "cell_type": "markdown",
   "metadata": {},
   "source": [
    "# Problem 0: Precourse Survey (0 points)\n",
    "\n",
    "If you have not already done so, please complete the pre-course survey availabe here:\n",
    "    https://forms.gle/n7FEdGT8tW9JNhog6"
   ]
  },
  {
   "cell_type": "markdown",
   "metadata": {},
   "source": [
    "# Problem 1: Using git (5 points)\n",
    "\n",
    "Over the course of this homework assignment, make at least 4 commits with informative commit messages. Remember that we can see the messages!"
   ]
  },
  {
   "cell_type": "markdown",
   "metadata": {},
   "source": [
    "# Problem 2: Largest Prime Factor (15 points)\n",
    "\n",
    "The prime factors of a number are the list of prime numbers who's product is equal to that number. I.e. 728 -> 2 2 2 7 13.\n",
    "\n",
    "a) Write a function which lists the prime factors of a number.\n",
    "\n",
    "b) What is the largest prime factor of 10,030,508,582,493?"
   ]
  },
  {
   "cell_type": "markdown",
   "metadata": {},
   "source": [
    "# Problem One\n",
    "We use a recursive method to solve our pro.\n",
    "1. when n = 1, n dosen't contain any prime factor, return directly.\n",
    "2. when n > 1, we search the smallest prime factor of n, once we get a prime factor of n（May wish to set i）, we want to use the result of the the prime factor & i to form the answer of the prime factor of n.\n",
    "\n",
    "# Problem Two\n",
    "1. In fact, in our function we record all prime factors in a list my_ans, so we can just use the ```max(my_ans)``` to solve the problem。\n",
    "2. In our solution we use a more direct way to solve our pro. Because of Since we add the various prime factors in order from small to large, the last added element is what we want."
   ]
  },
  {
   "cell_type": "code",
   "execution_count": 17,
   "metadata": {},
   "outputs": [
    {
     "name": "stdout",
     "output_type": "stream",
     "text": [
      "10030508582493 equals to [3, 7, 7789, 7789, 7873], max_prime_factor is 7873\n"
     ]
    }
   ],
   "source": [
    "from math import *\n",
    "to_solve = 10030508582493\n",
    "my_ans = []\n",
    "global max_prime_factor\n",
    "def PrimeFactor(n):\n",
    "    ''' using recursive method to solve the problem elegantly'''\n",
    "    ''' Boundary conditions '''\n",
    "    if(n == 1): return\n",
    "    ''' Get its prime factor from small to large '''\n",
    "    for i in range(2, int(n)):\n",
    "        if(n % i == 0):\n",
    "            my_ans.append(int(i))\n",
    "            PrimeFactor(n / i)\n",
    "            return\n",
    "        if(i > floor(sqrt(n))):\n",
    "            ''' n is prime(maximum factor) '''\n",
    "            global max_prime_factor \n",
    "            max_prime_factor = int(n)\n",
    "            my_ans.append(int(n))\n",
    "            return\n",
    "            \n",
    "PrimeFactor(to_solve)\n",
    "print('{} equals to {}, max_prime_factor is {}'.format(to_solve, my_ans, max_prime_factor))"
   ]
  },
  {
   "cell_type": "code",
   "execution_count": null,
   "metadata": {
    "collapsed": true
   },
   "outputs": [],
   "source": [
    "## solution: 3*7*7789*7789*7873"
   ]
  },
  {
   "cell_type": "markdown",
   "metadata": {},
   "source": [
    "# Problem 3: Division of Factorial Recursive Calculator (15 points)\n",
    "\n",
    "A common mathematical calculation that emerges in the field of combinatorics is the ratio of a two factorials, i.e.\n",
    "$$ \\frac{a!}{b!} = \\frac{a!}{(a-n)!}$$.\n",
    "\n",
    "a) Write a recursive program which will calculate this ratio for a given positive integer $a$ and $n$ (where $n<a$). Remember that a recursive function must call itself if a condition isn't met.\n",
    "\n",
    "b) What is the value for $a=10000$ and $n=13$?\n",
    "\n",
    "c) What is the value for $a=89$ and $n=40$?"
   ]
  },
  {
   "cell_type": "markdown",
   "metadata": {},
   "source": [
    "## main thought \n",
    "we use a as the max_num we need to do production, and n as the rest turn we need to do production, so that we can make the recursive function easily.\n",
    "$$ solve(a, n)=\\left\\{\n",
    "\\begin{array}{rcl}\n",
    "solve(a-1, n-1) \\times a &      & {n > 1}\\\\\n",
    "a     &      & {n = 1}\\\\\n",
    "\\end{array} \\right. $$\n"
   ]
  },
  {
   "cell_type": "code",
   "execution_count": 19,
   "metadata": {},
   "outputs": [
    {
     "name": "stdout",
     "output_type": "stream",
     "text": [
      "the value for a = 10000 and n = 13 is 9922271143048770786296305556545382530912502016000000\n",
      "the value for a = 89 and n = 40 is 27138660770557652810885765771467644902728921884082712250490552320000000000\n",
      "the value for a = 5 and n = 3 is 60\n"
     ]
    }
   ],
   "source": [
    "def solve(a, n):\n",
    "    ''' regard a as the begining , n as the number to do product '''\n",
    "    if(n == 1) : return a\n",
    "    return a * solve(a - 1, n - 1)\n",
    "\n",
    "print('the value for a = 10000 and n = 13 is {}'.format(solve(10000, 13)))\n",
    "print('the value for a = 89 and n = 40 is {}'.format(solve(89, 40)))\n",
    "print('the value for a = 5 and n = 3 is {}'.format(solve(5, 3)))"
   ]
  },
  {
   "cell_type": "markdown",
   "metadata": {},
   "source": [
    "# Problem 4: Largest Palindrome (15 points)\n",
    "\n",
    "\n",
    "A palindrome remains identical when its characters are reversed order. For example, 101 is a palindrome, as is 9339, and 1029201, and 165090561. All of these numbers, when read in reversed order, remain unchanged. In this problem, we will search for the largest palindrome that is also a product of two numbers. For example, the largest palindrome made from the product of two 2-digit numbers is 9009 = 91 × 99.\n",
    "\n",
    "a) What is the largest palidrome that comes from the product of three 2-digit numbers?\n",
    "\n",
    "b) What is the largest palidrome that comes from the product of two 3-digit numbers?"
   ]
  },
  {
   "cell_type": "markdown",
   "metadata": {},
   "source": [
    "# Problem a)\n",
    "## Main idea \n",
    "Set three loop variables to enumerate them in descending order. If the product is a palindrome, compare it with the original result, if it is larger than the original structure. Otherwise, discard.\n",
    "## to do some optimization\n",
    "Given the size relationship of $i, j, k (i>j>k)$, the upper bound that can be achieved when i is enumerated is $i\\times i \\times i$, and the upper bound that can be reached when enumerating j is $i\\times j\\times j$ . When the original result is greater than the previous one that can be obtained, stop the loop. This can greatly reduce the number of cycles.\n",
    "# Problem b)\n",
    "is quite similier with problem a)."
   ]
  },
  {
   "cell_type": "code",
   "execution_count": 28,
   "metadata": {},
   "outputs": [
    {
     "name": "stdout",
     "output_type": "stream",
     "text": [
      "the largest palidrome that comes from the       product of three 2-digit numbers is 828828\n"
     ]
    }
   ],
   "source": [
    "def is_palindrome(n):\n",
    "    n_to_str = str(n)\n",
    "    reversed_str = n_to_str[::-1]\n",
    "    if(n_to_str == reversed_str): return True\n",
    "    return False\n",
    "# solve prob_1\n",
    "def solve_three_2digit():\n",
    "    ans = 0\n",
    "    for i in range(99, 9, -1):\n",
    "        if(ans > i * i * i): \n",
    "            break\n",
    "        for j in range(i, 9, -1):\n",
    "            if(ans > i * j * j): \n",
    "                break\n",
    "            for k in range(j, 10, -1):\n",
    "                if(is_palindrome(i * j * k)):\n",
    "                    ans = max(ans, i * j * k)\n",
    "                    break\n",
    "    return ans\n",
    "print(\"the largest palidrome that comes from the \\\n",
    "      product of three 2-digit numbers is {}\" \\\n",
    "          .format(solve_three_2digit()))"
   ]
  },
  {
   "cell_type": "code",
   "execution_count": 29,
   "metadata": {},
   "outputs": [
    {
     "name": "stdout",
     "output_type": "stream",
     "text": [
      "the largest palidrome that comes from the       product of two 3-digit numbers is 906609\n"
     ]
    }
   ],
   "source": [
    "def solve_two_3digit():\n",
    "    ans = 0\n",
    "    for i in range(999, 99, -1):\n",
    "        if(ans > i * i):\n",
    "            break\n",
    "        for j in range(i, 99, -1):\n",
    "            if(is_palindrome(i * j)):\n",
    "                ans = max(ans, i * j)\n",
    "                break\n",
    "    return ans\n",
    "print(\"the largest palidrome that comes from the \\\n",
    "      product of two 3-digit numbers is {}\" \\\n",
    "          .format(solve_two_3digit()))"
   ]
  },
  {
   "cell_type": "code",
   "execution_count": null,
   "metadata": {},
   "outputs": [],
   "source": []
  }
 ],
 "metadata": {
  "kernelspec": {
   "display_name": "Python 3",
   "language": "python",
   "name": "python3"
  },
  "language_info": {
   "codemirror_mode": {
    "name": "ipython",
    "version": 3
   },
   "file_extension": ".py",
   "mimetype": "text/x-python",
   "name": "python",
   "nbconvert_exporter": "python",
   "pygments_lexer": "ipython3",
   "version": "3.7.3"
  }
 },
 "nbformat": 4,
 "nbformat_minor": 2
}
