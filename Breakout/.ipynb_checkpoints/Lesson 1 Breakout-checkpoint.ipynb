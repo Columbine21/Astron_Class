{
 "cells": [
  {
   "cell_type": "markdown",
   "metadata": {},
   "source": [
    "## Question 1 : foobar\n",
    "\n",
    "Write a loop over integers 1 to 60. If the number is divisible by 5 have the code print \"foo\", and if it is divisible by 3 it should print \"bar\". If it is divisible by both it should ONLY print \"fizz.\""
   ]
  },
  {
   "cell_type": "code",
   "execution_count": 3,
   "metadata": {},
   "outputs": [
    {
     "name": "stdout",
     "output_type": "stream",
     "text": [
      "3 bar\n",
      "5 foo\n",
      "6 bar\n",
      "9 bar\n",
      "10 foo\n",
      "12 bar\n",
      "15 fizz\n",
      "18 bar\n",
      "20 foo\n",
      "21 bar\n",
      "24 bar\n",
      "25 foo\n",
      "27 bar\n",
      "30 fizz\n",
      "33 bar\n",
      "35 foo\n",
      "36 bar\n",
      "39 bar\n",
      "40 foo\n",
      "42 bar\n",
      "45 fizz\n",
      "48 bar\n",
      "50 foo\n",
      "51 bar\n",
      "54 bar\n",
      "55 foo\n",
      "57 bar\n"
     ]
    }
   ],
   "source": [
    "for i in range(1,60):\n",
    "    # your code here!\n",
    "    if(i % 5 == 0 and i % 3 == 0): \n",
    "        print(i, \"fizz\")\n",
    "    elif(i % 5 == 0):\n",
    "        print(i, \"foo\")\n",
    "    elif(i % 3 == 0):\n",
    "        print(i, \"bar\")"
   ]
  },
  {
   "cell_type": "markdown",
   "metadata": {},
   "source": [
    "## Question 2 : L33T Speak\n",
    "\n",
    "Write a function that will take in a string and replace every \"i\" with a \"1\" and every \"e\" with a \"3\". I.e. imperial => \"1mp3r1al\". The funcion should output a string."
   ]
  },
  {
   "cell_type": "code",
   "execution_count": 16,
   "metadata": {
    "collapsed": true
   },
   "outputs": [],
   "source": [
    "def Replace(s):\n",
    "    return s.replace('e', '3').replace('i','1')"
   ]
  },
  {
   "cell_type": "code",
   "execution_count": 17,
   "metadata": {},
   "outputs": [
    {
     "name": "stdout",
     "output_type": "stream",
     "text": [
      "imperial\n",
      "1mp3r1al\n"
     ]
    }
   ],
   "source": [
    "string = \"imperial\"\n",
    "\n",
    "print(string, Replace(string))"
   ]
  },
  {
   "cell_type": "markdown",
   "metadata": {},
   "source": [
    "## Question 3 : Basic Class\n",
    "\n",
    "Create a class to store vectors. This class should allow addition through standard plus operation (i.e. have a __add__ method), and also have a method to calculate the vector norm."
   ]
  },
  {
   "cell_type": "code",
   "execution_count": 37,
   "metadata": {},
   "outputs": [
    {
     "name": "stdout",
     "output_type": "stream",
     "text": [
      "285\n"
     ]
    }
   ],
   "source": [
    "from math import *\n",
    "from functools import reduce\n",
    "print(reduce(lambda x, y: x+y, (map(lambda x: x ** 2, range(10)))))"
   ]
  },
  {
   "cell_type": "code",
   "execution_count": 60,
   "metadata": {
    "collapsed": true
   },
   "outputs": [],
   "source": [
    "class Vec:\n",
    "    def __init__(self,input_list):\n",
    "        self.vec = input_list\n",
    "    def add(self, vector):\n",
    "        ans = []\n",
    "        for n,i in enumerate(self.vec):\n",
    "            ans.append(self.vec[n] + vector.vec[n])\n",
    "        return Vec(ans)\n",
    "    def norm(self):\n",
    "        return sqrt(reduce(lambda x, y: x+y, (map(lambda x: x ** 2, self.vec))))"
   ]
  },
  {
   "cell_type": "code",
   "execution_count": 62,
   "metadata": {},
   "outputs": [
    {
     "name": "stdout",
     "output_type": "stream",
     "text": [
      "16.881943016134134\n",
      "0 0\n",
      "1 1\n",
      "2 2\n",
      "3 3\n",
      "4 4\n",
      "5 5\n",
      "6 6\n",
      "7 7\n",
      "8 8\n",
      "9 9\n",
      "[1, 3, 5, 7, 9, 11, 13, 15, 17, 19]\n"
     ]
    }
   ],
   "source": [
    "tmp_vec = Vec([0,1,2,3,4,5,6,7,8,9])\n",
    "print(tmp_vec.norm())\n",
    "\n",
    "temp_vec = Vec([1,2,3,4,5,6,7,8,9,10])\n",
    "print(tmp_vec.add(temp_vec).vec)"
   ]
  },
  {
   "cell_type": "markdown",
   "metadata": {},
   "source": [
    "## Quesion 4: Date Class\n",
    "\n",
    "This one was inspired by a programming question I had during a google interview. You can assume that every month has only 30 days. Write a class to hold the current date (month, day, year). Include a method called \"add_day\" which will add N days to the date. Remember to advance the month and/or year when approrpaie."
   ]
  },
  {
   "cell_type": "code",
   "execution_count": null,
   "metadata": {
    "collapsed": true
   },
   "outputs": [],
   "source": [
    "class Date :\n",
    "    def __init__(self, month, day, year):"
   ]
  },
  {
   "cell_type": "markdown",
   "metadata": {},
   "source": [
    "## Question 5: Mean/Standard Deviation\n",
    "\n",
    "a) Write a program to take a list of numbers and find its mean and standard deviation.\n",
    "\n",
    "b) Read in the \"test\" file and find the mean and standard deviation of those numbers."
   ]
  },
  {
   "cell_type": "code",
   "execution_count": 21,
   "metadata": {},
   "outputs": [
    {
     "name": "stdout",
     "output_type": "stream",
     "text": [
      "3.0\n"
     ]
    }
   ],
   "source": [
    "def solve_mean(List):\n",
    "    sum = 0\n",
    "    for i in List:\n",
    "        sum += i\n",
    "    return sum / len(List)\n",
    "print(solve_mean([1,2,3,4,5]))"
   ]
  },
  {
   "cell_type": "code",
   "execution_count": 22,
   "metadata": {},
   "outputs": [
    {
     "name": "stdout",
     "output_type": "stream",
     "text": [
      "2.0\n"
     ]
    }
   ],
   "source": [
    "def solve_dev(List):\n",
    "    aver = solve_mean(List)\n",
    "    sum = 0\n",
    "    for data in List:\n",
    "        sum += (data - aver) ** 2\n",
    "    return sum / len(List)\n",
    "print(solve_dev([1,2,3,4,5]))"
   ]
  },
  {
   "cell_type": "code",
   "execution_count": 33,
   "metadata": {},
   "outputs": [
    {
     "name": "stdout",
     "output_type": "stream",
     "text": [
      "[31, 32, 80, 99, 10, 11, 39, 88, 19, 98]\n",
      "50.7 1193.2099999999998\n"
     ]
    }
   ],
   "source": [
    "list = []\n",
    "with open(\"./test\", \"r\") as f:\n",
    "    while(True):\n",
    "        data = f.readline()\n",
    "        if(not data):\n",
    "            break\n",
    "        list.append(int(data[:-1] if data[-1] == '\\n' else data))\n",
    "print(list)\n",
    "print(solve_mean(list), solve_dev(list))"
   ]
  },
  {
   "cell_type": "markdown",
   "metadata": {},
   "source": [
    "## Quesion 6: Graph Traversal [Extension]\n",
    "\n",
    "A graph is a system of nodes and edges connecting them. \n",
    "\n",
    "a) Create a \"node\" class which each have a unique name.\n",
    "\n",
    "b) Find a way to define connections between the nodes.\n",
    "\n",
    "c) Write a script to randomly generate graphs with 10 nodes.\n",
    "\n",
    "d) Write a program which will find the shortest path between two nodes given their names."
   ]
  },
  {
   "cell_type": "code",
   "execution_count": null,
   "metadata": {
    "collapsed": true
   },
   "outputs": [],
   "source": []
  }
 ],
 "metadata": {
  "kernelspec": {
   "display_name": "Python 3",
   "language": "python",
   "name": "python3"
  },
  "language_info": {
   "codemirror_mode": {
    "name": "ipython",
    "version": 3
   },
   "file_extension": ".py",
   "mimetype": "text/x-python",
   "name": "python",
   "nbconvert_exporter": "python",
   "pygments_lexer": "ipython3",
   "version": "3.6.3"
  }
 },
 "nbformat": 4,
 "nbformat_minor": 2
}
