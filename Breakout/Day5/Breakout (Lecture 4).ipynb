{
 "cells": [
  {
   "cell_type": "markdown",
   "metadata": {},
   "source": [
    "# Introduction to Numerical Techniques\n",
    "\n",
    "## 1) Numerical Differentiation Breakout : Different Differences\n",
    "\n",
    "There are multiple possible ways to calculate the derivative using finite differences:\n",
    "\n",
    "Left:\n",
    "\n",
    "$$f'(x) = \\frac{f(x+h) - f(x)}{h}$$\n",
    "\n",
    "Center:\n",
    "\n",
    "$$f'(x) = \\frac{f(x+h/2) - f(x-h/2)}{h}$$\n",
    "\n",
    "Right:\n",
    "\n",
    "$$f'(x) = \\frac{f(x) - f(x-h)}{h}$$\n",
    "\n",
    "Code up each of these and plot the accuracy vs step size h. Do this for both $f(x) = -sin(x)exp(-x)$ as well as $f(x) = x^2-x$."
   ]
  },
  {
   "cell_type": "code",
   "execution_count": 44,
   "metadata": {
    "collapsed": true
   },
   "outputs": [],
   "source": [
    "import numpy as np"
   ]
  },
  {
   "cell_type": "code",
   "execution_count": 45,
   "metadata": {
    "collapsed": true
   },
   "outputs": [],
   "source": [
    "def func_one(x):\n",
    "    return -np.sin(x) * np.e ** (-x)\n",
    "def func_two(x) : \n",
    "    return x ** 2 - x"
   ]
  },
  {
   "cell_type": "code",
   "execution_count": 46,
   "metadata": {
    "collapsed": true
   },
   "outputs": [],
   "source": [
    "def derivative(method, func, x, h = 0.01):\n",
    "    if(method == 'left'):\n",
    "        return (func(x+h) - func(x)) / h\n",
    "    elif(method == 'center'):\n",
    "        return (func(x+h/2) - func(x-h/2)) / h\n",
    "    elif(method == 'right'):\n",
    "        return (func(x) - func(x-h)) / h\n",
    "    else:\n",
    "        print(\"method error\")\n",
    "        exit()"
   ]
  },
  {
   "cell_type": "code",
   "execution_count": 47,
   "metadata": {
    "collapsed": true
   },
   "outputs": [],
   "source": [
    "h = np.logspace(-16, 1, 100)\n",
    "method = {0 : 'left', 1 : 'center', 2 : 'right'}\n",
    "color = {0 : 'r:', 1 : 'b:', 2 : 'g:'}"
   ]
  },
  {
   "cell_type": "code",
   "execution_count": 51,
   "metadata": {},
   "outputs": [
    {
     "name": "stdout",
     "output_type": "stream",
     "text": [
      "Populating the interactive namespace from numpy and matplotlib\n"
     ]
    },
    {
     "name": "stderr",
     "output_type": "stream",
     "text": [
      "/anaconda3/lib/python3.6/site-packages/ipykernel_launcher.py:4: UserWarning: Attempted to set non-positive bottom ylim on a log-scaled axis.\n",
      "Invalid limit will be ignored.\n",
      "  after removing the cwd from sys.path.\n",
      "/anaconda3/lib/python3.6/site-packages/ipykernel_launcher.py:9: UserWarning: Attempted to set non-positive bottom ylim on a log-scaled axis.\n",
      "Invalid limit will be ignored.\n",
      "  if __name__ == '__main__':\n"
     ]
    },
    {
     "data": {
      "text/plain": [
       "<Figure size 432x288 with 0 Axes>"
      ]
     },
     "execution_count": 51,
     "metadata": {},
     "output_type": "execute_result"
    },
    {
     "data": {
      "image/png": "[encoded data removed]",
      "text/plain": [
       "<Figure size 432x288 with 1 Axes>"
      ]
     },
     "metadata": {},
     "output_type": "display_data"
    },
    {
     "data": {
      "image/png": "[encoded data removed]",
      "text/plain": [
       "<Figure size 432x288 with 1 Axes>"
      ]
     },
     "metadata": {},
     "output_type": "display_data"
    },
    {
     "data": {
      "text/plain": [
       "<Figure size 432x288 with 0 Axes>"
      ]
     },
     "metadata": {},
     "output_type": "display_data"
    }
   ],
   "source": [
    "%pylab inline\n",
    "for n,_ in enumerate(method):\n",
    "    derivatives = derivative(method[n], func_one, np.pi / 3, h)\n",
    "    plt.loglog(h,derivatives, '', color[n])\n",
    "plt.xlabel(r'h')\n",
    "plt.figure()\n",
    "for n,_ in enumerate(method):\n",
    "    derivatives = derivative(method[n], func_two, np.pi / 3, h)\n",
    "    plt.loglog(h,derivatives, '', color[n])\n",
    "plt.xlabel(r'h')\n",
    "plt.figure()"
   ]
  },
  {
   "cell_type": "markdown",
   "metadata": {},
   "source": [
    "## 2) Numerical Differentiation Breakout : Second Derivative\n",
    "\n",
    "a) Use wolfram alpha to calculate the second derivative of $f(x) = -sin(x)exp(-x)$.\n",
    "\n",
    "b) Write a function to calculate the second derivative of a function and compare it to the analytical result. \n",
    "\n",
    "(Hint: $f''(x) = \\frac{\\frac{f(x+h)-f(x)}{h} - \\frac{f(x)-f(x-h)}{h} }{h}$ )\n",
    "\n",
    "c) In ./data/freefall.txt there is data from an experiment with a dropped weight. Calculate the force by measuring the acceleration (i.e. $F = m \\frac{d^2x}{dt^2}$)"
   ]
  },
  {
   "cell_type": "code",
   "execution_count": 52,
   "metadata": {
    "collapsed": true
   },
   "outputs": [],
   "source": [
    "def second_der(func, x, h = 0.01):\n",
    "    return (derivative('left', func, x, h) - derivative('right', func, x, h)) / h"
   ]
  },
  {
   "cell_type": "code",
   "execution_count": 53,
   "metadata": {},
   "outputs": [
    {
     "name": "stdout",
     "output_type": "stream",
     "text": [
      "0.397532218255\n"
     ]
    }
   ],
   "source": [
    "print(second_der(func_one, 1, 0.0001))"
   ]
  },
  {
   "cell_type": "markdown",
   "metadata": {},
   "source": [
    "## 3) Numerical Integration Breakout: Trap Integration\n",
    "    \n",
    "Below is the code for trapezoidal integration. Compare the performance of this vs the rectangular integration in class. If we want to get within .1 percent of the true integral how many steps of Trap_int will we need vs rectangular int?"
   ]
  },
  {
   "cell_type": "code",
   "execution_count": 56,
   "metadata": {
    "collapsed": true
   },
   "outputs": [],
   "source": [
    "def rec_int(f, a, b, N=100):\n",
    "    n = np.linspace(a, b, N)\n",
    "    dx = n[1] - n[0]\n",
    "    return sum(f(n)) * dx"
   ]
  },
  {
   "cell_type": "code",
   "execution_count": 57,
   "metadata": {
    "collapsed": true
   },
   "outputs": [],
   "source": [
    "def trap_int(f, a, b, N=10):\n",
    "    # Define x-values\n",
    "    x = np.linspace(a, b, N+1)\n",
    "\n",
    "    # Get y-values\n",
    "    y = f(x)\n",
    "\n",
    "    # Define slice width\n",
    "    h = (b-a)/float(N)\n",
    "\n",
    "    # approximate integral\n",
    "    I = h * (0.5*y[0] + 0.5*y[-1] + sum(y[1:-1]))\n",
    "\n",
    "    return I"
   ]
  },
  {
   "cell_type": "code",
   "execution_count": 88,
   "metadata": {},
   "outputs": [
    {
     "name": "stdout",
     "output_type": "stream",
     "text": [
      "11913 115\n",
      "-0.245830007677\n"
     ]
    }
   ],
   "source": [
    "# n = linspace(10000, 20000, 10001)\n",
    "n_rec, n_trap = 1000, 10\n",
    "while(True):\n",
    "    if(abs(rec_int(func_one, 0, 1, n_rec) + 0.24584) < 0.00001):\n",
    "        break\n",
    "    n_rec = n_rec + 1\n",
    "while(True):\n",
    "    if(abs(trap_int(func_one, 0, 1, n_trap) + 0.24584) < 0.00001):\n",
    "        break\n",
    "    n_trap = n_trap + 1\n",
    "    \n",
    "print(n_rec, n_trap)\n",
    "print(trap_int(func_one, 0, 1, 115))\n"
   ]
  },
  {
   "cell_type": "code",
   "execution_count": 110,
   "metadata": {
    "collapsed": true
   },
   "outputs": [],
   "source": [
    "n = np.arange(20, 20000, 1)\n",
    "result_rec = [abs(rec_int(func_one, 0, 1, i)) for i in n]\n",
    "result_trap = [abs(trap_int(func_one, 0, 1, i)) for i in n] "
   ]
  },
  {
   "cell_type": "code",
   "execution_count": 111,
   "metadata": {},
   "outputs": [
    {
     "data": {
      "text/plain": [
       "<Figure size 432x288 with 0 Axes>"
      ]
     },
     "execution_count": 111,
     "metadata": {},
     "output_type": "execute_result"
    },
    {
     "data": {
      "image/png": "[encoded data removed]",
      "text/plain": [
       "<Figure size 432x288 with 1 Axes>"
      ]
     },
     "metadata": {},
     "output_type": "display_data"
    },
    {
     "data": {
      "text/plain": [
       "<Figure size 432x288 with 0 Axes>"
      ]
     },
     "metadata": {},
     "output_type": "display_data"
    }
   ],
   "source": [
    "plt.loglog(n ,result_rec)\n",
    "plt.loglog(n, result_trap)\n",
    "plt.loglog([1,10**8],[0.2458370070002,0.2458370070002], \"g:\") \n",
    "plt.figure()"
   ]
  },
  {
   "cell_type": "code",
   "execution_count": null,
   "metadata": {
    "collapsed": true
   },
   "outputs": [],
   "source": []
  }
 ],
 "metadata": {
  "kernelspec": {
   "display_name": "Python 3",
   "language": "python",
   "name": "python3"
  },
  "language_info": {
   "codemirror_mode": {
    "name": "ipython",
    "version": 3
   },
   "file_extension": ".py",
   "mimetype": "text/x-python",
   "name": "python",
   "nbconvert_exporter": "python",
   "pygments_lexer": "ipython3",
   "version": "3.6.3"
  }
 },
 "nbformat": 4,
 "nbformat_minor": 2
}
