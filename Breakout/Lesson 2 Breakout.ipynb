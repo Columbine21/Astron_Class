{
 "cells": [
  {
   "cell_type": "markdown",
   "metadata": {},
   "source": [
    "# 1) Clusters Dataset\n",
    "\n",
    " Load in the file clusters.csv from ./data/ with the np.loadtxt function, keeping only the columns labeled as haloid, r200crit, and m200crit. You will want to inspect the header of the file to see which columns these labels correspond to. Find the HaloID corresponding to the cluster with an r200crit > 1.0 and an m200crit < $2\\times10^{4}$. Note that HaloID should have data as integers, meaning you will want to break off that component of the data into a separate array with int data type, and keep the other two (which are floats) in a single ndarray with float data type\n"
   ]
  },
  {
   "cell_type": "code",
   "execution_count": 2,
   "metadata": {
    "collapsed": true
   },
   "outputs": [],
   "source": [
    "import numpy as np"
   ]
  },
  {
   "cell_type": "code",
   "execution_count": 3,
   "metadata": {},
   "outputs": [
    {
     "name": "stdout",
     "output_type": "stream",
     "text": [
      "124000068000005\n"
     ]
    }
   ],
   "source": [
    "# we can do it in 3 lines\n",
    "HaloID_list = np.loadtxt(\"./data/clusters\", dtype=int, delimiter=',',usecols=(0))\n",
    "Toselect_list = np.loadtxt(\"./data/clusters\", dtype=float, delimiter=',',usecols=(5,6))\n",
    "selected_index = int(HaloID_list[np.where((Toselect_list[:,0] > 1.0) &\n",
    "                                      (Toselect_list[:,1] < 20000))])\n",
    "print(selected_index)"
   ]
  },
  {
   "cell_type": "code",
   "execution_count": 4,
   "metadata": {},
   "outputs": [
    {
     "name": "stdout",
     "output_type": "stream",
     "text": [
      "[[  1.24000068e+14   1.02560450e+00   1.98107680e+04]]\n",
      "124000068000005\n"
     ]
    }
   ],
   "source": [
    "# to get the wanted column\n",
    "list = np.loadtxt(\"./data/clusters\", dtype=float, delimiter=',', usecols=(0,5,6))\n",
    "\n",
    "tmp_list = list[np.where(list[:,1] > 1.0)]\n",
    "selected_list = tmp_list[np.where(tmp_list[:,2] < 20000)]\n",
    "print(selected_list)\n",
    "print(int(selected_list[0,0]))"
   ]
  },
  {
   "cell_type": "markdown",
   "metadata": {},
   "source": [
    "# 2) 10000 Mystery Numbers \n",
    "\n",
    "In this question we will investigate what the properties are of 10000 mystery numbers are. These numbers are located in the data folder in the file called \"dist.txt\""
   ]
  },
  {
   "cell_type": "markdown",
   "metadata": {},
   "source": [
    "a) Load the values using Numpy."
   ]
  },
  {
   "cell_type": "markdown",
   "metadata": {},
   "source": [
    "b) Find the minimum and maximum values of this list."
   ]
  },
  {
   "cell_type": "markdown",
   "metadata": {},
   "source": [
    "c) What is the median value?"
   ]
  },
  {
   "cell_type": "markdown",
   "metadata": {},
   "source": [
    "d) What is the average of the first 1000 values in the data file?"
   ]
  },
  {
   "cell_type": "markdown",
   "metadata": {},
   "source": [
    "e) Write a python looping function to calculate the sum of all the datapoints. Compare the time of this function vs. the built in .sum() method."
   ]
  },
  {
   "cell_type": "markdown",
   "metadata": {},
   "source": [
    "f) Bin the distribution into ten evenly spaced bins; i.e. if the distribution varied between 0 and 1, figure out how many datapoints are between 0 and 0.1, between 0.1 and 0.2, etc."
   ]
  },
  {
   "cell_type": "code",
   "execution_count": 5,
   "metadata": {},
   "outputs": [
    {
     "name": "stdout",
     "output_type": "stream",
     "text": [
      "23.3119484752 3.28617445751 9.75229814081\n"
     ]
    }
   ],
   "source": [
    "List_for_task2 = np.loadtxt(\"./data/dist.txt\", dtype=float, delimiter='\\n')\n",
    "# print(List_for_task2)\n",
    "min_num, max_num, median_num = List_for_task2.min(), List_for_task2.max(), np.median(List_for_task2)\n",
    "print(max_num, min_num, median_num)\n",
    "mean_num_for_front_1000 = np.mean(List_for_task2[:1000])\n",
    "# print(mean_num_for_front_1000)"
   ]
  },
  {
   "cell_type": "code",
   "execution_count": 6,
   "metadata": {},
   "outputs": [
    {
     "name": "stdout",
     "output_type": "stream",
     "text": [
      "CPU times: user 205 µs, sys: 1 µs, total: 206 µs\n",
      "Wall time: 211 µs\n"
     ]
    }
   ],
   "source": [
    "%%time\n",
    "sum_using_loop = 0\n",
    "for data in List_for_task2:\n",
    "    sum_using_loop += data"
   ]
  },
  {
   "cell_type": "code",
   "execution_count": 7,
   "metadata": {},
   "outputs": [
    {
     "name": "stdout",
     "output_type": "stream",
     "text": [
      "CPU times: user 56 µs, sys: 6 µs, total: 62 µs\n",
      "Wall time: 67 µs\n"
     ]
    }
   ],
   "source": [
    "%%time \n",
    "sum_using_numpy = np.sum(List_for_task2)"
   ]
  },
  {
   "cell_type": "code",
   "execution_count": 8,
   "metadata": {},
   "outputs": [
    {
     "name": "stdout",
     "output_type": "stream",
     "text": [
      "10082.069146 10082.069146\n"
     ]
    }
   ],
   "source": [
    "print(sum_using_loop, sum_using_numpy)"
   ]
  },
  {
   "cell_type": "code",
   "execution_count": 9,
   "metadata": {},
   "outputs": [
    {
     "name": "stdout",
     "output_type": "stream",
     "text": [
      "[  3.28617446   5.28875186   7.29132926   9.29390666  11.29648406\n",
      "  13.29906147  15.30163887  17.30421627  19.30679367  21.30937107\n",
      "  23.31194848]\n"
     ]
    }
   ],
   "source": [
    "blank = np.linspace(min_num, max_num, 11)\n",
    "print(blank)"
   ]
  },
  {
   "cell_type": "code",
   "execution_count": 107,
   "metadata": {},
   "outputs": [
    {
     "ename": "SyntaxError",
     "evalue": "invalid syntax (<ipython-input-107-98579a7dcb0c>, line 5)",
     "output_type": "error",
     "traceback": [
      "\u001b[0;36m  File \u001b[0;32m\"<ipython-input-107-98579a7dcb0c>\"\u001b[0;36m, line \u001b[0;32m5\u001b[0m\n\u001b[0;31m    plt.plot(<BINS>) #your bin variable name here!\u001b[0m\n\u001b[0m             ^\u001b[0m\n\u001b[0;31mSyntaxError\u001b[0m\u001b[0;31m:\u001b[0m invalid syntax\n"
     ]
    }
   ],
   "source": [
    "### If you are curious, you can plot them by using this command\n",
    "\n",
    "%matplotlib inline\n",
    "\n",
    "plt.plot(<BINS>) #your bin variable name here!"
   ]
  },
  {
   "cell_type": "markdown",
   "metadata": {},
   "source": [
    "# 3) Integrator\n",
    "\n",
    "Integration is very fun, but it is even more fun when we can have the computer do it! In this assignment you will code up a function to integrate using the rectangle rule."
   ]
  },
  {
   "cell_type": "markdown",
   "metadata": {},
   "source": [
    "a) Write a python function which will calculate the following:\n",
    "\n",
    "$$f(x) = x^2 + 3x + 1$$"
   ]
  },
  {
   "cell_type": "markdown",
   "metadata": {},
   "source": [
    "b) Analytically, what is the integral of this function between 0 and 1?"
   ]
  },
  {
   "cell_type": "markdown",
   "metadata": {},
   "source": [
    "c) Create a numpy linspaced array of length N between 0 and 1."
   ]
  },
  {
   "cell_type": "markdown",
   "metadata": {},
   "source": [
    "d) Use this linspaced list and the function to calculate the integral. How big of an N do you need to get it within 0.01%?"
   ]
  },
  {
   "cell_type": "code",
   "execution_count": 14,
   "metadata": {},
   "outputs": [
    {
     "name": "stdout",
     "output_type": "stream",
     "text": [
      "the integral of this function is 2.833333333333333\n"
     ]
    }
   ],
   "source": [
    "# question a\n",
    "def function(x):\n",
    "    return x ** 2 + 3 * x + 1\n",
    "# print(function(3))\n",
    "# question b\n",
    "final_result = 1/3 + 3/2 + 1\n",
    "print(\"the integral of this function is {}\".format(final_result))"
   ]
  },
  {
   "cell_type": "code",
   "execution_count": 18,
   "metadata": {
    "collapsed": true
   },
   "outputs": [],
   "source": [
    "def create_speration(N):\n",
    "    return np.linspace(0, 1, N + 1)\n",
    "\n",
    "# a = create_speration(10)\n",
    "# print(a)\n",
    "def cal_integration(N):\n",
    "    array = create_speration(N)\n",
    "    ans = 0\n",
    "    for i in range(N):\n",
    "        ans += function(array[i]) / N\n",
    "    return ans \n",
    "# to see weather our result is accept\n",
    "def is_within(cal_result, result):\n",
    "    return (abs(cal_result - result) / result) < 1 / 10000\n",
    "def solve_min_N():\n",
    "    counter = 5000\n",
    "    while(True):\n",
    "        if(is_within(cal_integration(counter), final_result)):\n",
    "            break\n",
    "        counter = counter + 1\n",
    "    return (counter, cal_integration(counter))"
   ]
  },
  {
   "cell_type": "code",
   "execution_count": 19,
   "metadata": {},
   "outputs": [
    {
     "name": "stdout",
     "output_type": "stream",
     "text": [
      "7059 2.83305001043\n"
     ]
    }
   ],
   "source": [
    "a, cal_result = solve_min_N()\n",
    "print(a, cal_result)"
   ]
  }
 ],
 "metadata": {
  "kernelspec": {
   "display_name": "Python 3",
   "language": "python",
   "name": "python3"
  },
  "language_info": {
   "codemirror_mode": {
    "name": "ipython",
    "version": 3
   },
   "file_extension": ".py",
   "mimetype": "text/x-python",
   "name": "python",
   "nbconvert_exporter": "python",
   "pygments_lexer": "ipython3",
   "version": "3.6.3"
  }
 },
 "nbformat": 4,
 "nbformat_minor": 2
}
